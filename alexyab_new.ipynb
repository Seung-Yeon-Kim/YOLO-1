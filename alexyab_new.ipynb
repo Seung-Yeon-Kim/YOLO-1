{
  "nbformat": 4,
  "nbformat_minor": 0,
  "metadata": {
    "colab": {
      "name": "alexyab_new.ipynb",
      "provenance": [],
      "collapsed_sections": [],
      "machine_shape": "hm"
    },
    "kernelspec": {
      "name": "python3",
      "display_name": "Python 3"
    },
    "accelerator": "GPU"
  },
  "cells": [
    {
      "cell_type": "code",
      "metadata": {
        "id": "WntGEQAc0yuG",
        "colab_type": "code",
        "colab": {
          "base_uri": "https://localhost:8080/",
          "height": 131
        },
        "outputId": "5f2bea49-a040-4f77-e291-065d4e61e534"
      },
      "source": [
        "from google.colab import drive\n",
        "drive.mount('/content/drive')"
      ],
      "execution_count": null,
      "outputs": [
        {
          "output_type": "stream",
          "text": [
            "Go to this URL in a browser: https://accounts.google.com/o/oauth2/auth?client_id=947318989803-6bn6qk8qdgf4n4g3pfee6491hc0brc4i.apps.googleusercontent.com&redirect_uri=urn%3aietf%3awg%3aoauth%3a2.0%3aoob&scope=email%20https%3a%2f%2fwww.googleapis.com%2fauth%2fdocs.test%20https%3a%2f%2fwww.googleapis.com%2fauth%2fdrive%20https%3a%2f%2fwww.googleapis.com%2fauth%2fdrive.photos.readonly%20https%3a%2f%2fwww.googleapis.com%2fauth%2fpeopleapi.readonly&response_type=code\n",
            "\n",
            "Enter your authorization code:\n",
            "··········\n",
            "Mounted at /content/drive\n"
          ],
          "name": "stdout"
        }
      ]
    },
    {
      "cell_type": "code",
      "metadata": {
        "id": "ZHQPd6cF0-3y",
        "colab_type": "code",
        "colab": {
          "base_uri": "https://localhost:8080/",
          "height": 34
        },
        "outputId": "9b4bc61d-c89c-438b-ba24-052011ff6cc2"
      },
      "source": [
        "cd /content"
      ],
      "execution_count": 1,
      "outputs": [
        {
          "output_type": "stream",
          "text": [
            "/content\n"
          ],
          "name": "stdout"
        }
      ]
    },
    {
      "cell_type": "code",
      "metadata": {
        "id": "agLSSWNV1FF4",
        "colab_type": "code",
        "colab": {
          "base_uri": "https://localhost:8080/",
          "height": 105
        },
        "outputId": "de79b0e2-6651-44b5-b9cf-fd4751169c2b"
      },
      "source": [
        "!git clone https://github.com/okboseong/darknet.git"
      ],
      "execution_count": 2,
      "outputs": [
        {
          "output_type": "stream",
          "text": [
            "Cloning into 'darknet'...\n",
            "remote: Enumerating objects: 3499, done.\u001b[K\n",
            "remote: Total 3499 (delta 0), reused 0 (delta 0), pack-reused 3499\u001b[K\n",
            "Receiving objects: 100% (3499/3499), 56.20 MiB | 20.45 MiB/s, done.\n",
            "Resolving deltas: 100% (424/424), done.\n"
          ],
          "name": "stdout"
        }
      ]
    },
    {
      "cell_type": "code",
      "metadata": {
        "id": "wWc5k-0j1TIW",
        "colab_type": "code",
        "colab": {
          "base_uri": "https://localhost:8080/",
          "height": 457
        },
        "outputId": "92422fc1-8d61-4d86-9683-e7b0abecc0d3"
      },
      "source": [
        "!nvcc --version\n",
        "print(\"===============================================================================\")\n",
        "!nvidia-smi"
      ],
      "execution_count": 3,
      "outputs": [
        {
          "output_type": "stream",
          "text": [
            "nvcc: NVIDIA (R) Cuda compiler driver\n",
            "Copyright (c) 2005-2019 NVIDIA Corporation\n",
            "Built on Sun_Jul_28_19:07:16_PDT_2019\n",
            "Cuda compilation tools, release 10.1, V10.1.243\n",
            "===============================================================================\n",
            "Wed Sep 16 08:40:26 2020       \n",
            "+-----------------------------------------------------------------------------+\n",
            "| NVIDIA-SMI 450.66       Driver Version: 418.67       CUDA Version: 10.1     |\n",
            "|-------------------------------+----------------------+----------------------+\n",
            "| GPU  Name        Persistence-M| Bus-Id        Disp.A | Volatile Uncorr. ECC |\n",
            "| Fan  Temp  Perf  Pwr:Usage/Cap|         Memory-Usage | GPU-Util  Compute M. |\n",
            "|                               |                      |               MIG M. |\n",
            "|===============================+======================+======================|\n",
            "|   0  Tesla V100-SXM2...  Off  | 00000000:00:04.0 Off |                    0 |\n",
            "| N/A   34C    P0    23W / 300W |      0MiB / 16130MiB |      0%      Default |\n",
            "|                               |                      |                 ERR! |\n",
            "+-------------------------------+----------------------+----------------------+\n",
            "                                                                               \n",
            "+-----------------------------------------------------------------------------+\n",
            "| Processes:                                                                  |\n",
            "|  GPU   GI   CI        PID   Type   Process name                  GPU Memory |\n",
            "|        ID   ID                                                   Usage      |\n",
            "|=============================================================================|\n",
            "|  No running processes found                                                 |\n",
            "+-----------------------------------------------------------------------------+\n"
          ],
          "name": "stdout"
        }
      ]
    },
    {
      "cell_type": "code",
      "metadata": {
        "id": "Pd7RJ2jeYZK0",
        "colab_type": "code",
        "colab": {
          "base_uri": "https://localhost:8080/",
          "height": 34
        },
        "outputId": "f66d5836-0db4-40a0-f846-31dab00bc9a7"
      },
      "source": [
        "cd darknet"
      ],
      "execution_count": 4,
      "outputs": [
        {
          "output_type": "stream",
          "text": [
            "/content/darknet\n"
          ],
          "name": "stdout"
        }
      ]
    },
    {
      "cell_type": "code",
      "metadata": {
        "id": "Y54LuRxbZjkU",
        "colab_type": "code",
        "colab": {}
      },
      "source": [
        "# ls -al"
      ],
      "execution_count": 5,
      "outputs": []
    },
    {
      "cell_type": "code",
      "metadata": {
        "id": "nvHmGb5jYTjF",
        "colab_type": "code",
        "colab": {}
      },
      "source": [
        "!./build.sh"
      ],
      "execution_count": null,
      "outputs": []
    },
    {
      "cell_type": "markdown",
      "metadata": {
        "id": "7BCBRlG7QK3Q",
        "colab_type": "text"
      },
      "source": [
        "## img 전에꺼 지우고 최신 img 쓰려면 이 아래 코드사용"
      ]
    },
    {
      "cell_type": "code",
      "metadata": {
        "id": "gX6X0ZRTQT5W",
        "colab_type": "code",
        "colab": {}
      },
      "source": [
        "rm -rf /content/darknet/build/darknet/x64/data/obj"
      ],
      "execution_count": 78,
      "outputs": []
    },
    {
      "cell_type": "code",
      "metadata": {
        "id": "MTJ1t84EQUDJ",
        "colab_type": "code",
        "colab": {}
      },
      "source": [
        "mkdir /content/darknet/build/darknet/x64/data/obj"
      ],
      "execution_count": 79,
      "outputs": []
    },
    {
      "cell_type": "code",
      "metadata": {
        "id": "ItrR4IR8P_CG",
        "colab_type": "code",
        "colab": {
          "base_uri": "https://localhost:8080/",
          "height": 34
        },
        "outputId": "a59b1365-9ac9-4c01-d9a2-46638c6ccbe1"
      },
      "source": [
        "cd /content/drive/My\\ Drive/YOLO/"
      ],
      "execution_count": 77,
      "outputs": [
        {
          "output_type": "stream",
          "text": [
            "/content/drive/My Drive/YOLO\n"
          ],
          "name": "stdout"
        }
      ]
    },
    {
      "cell_type": "code",
      "metadata": {
        "id": "Qwnb-83TQDY2",
        "colab_type": "code",
        "colab": {}
      },
      "source": [
        "cp usb.zip /content/darknet/build/darknet/x64/data/obj"
      ],
      "execution_count": 80,
      "outputs": []
    },
    {
      "cell_type": "code",
      "metadata": {
        "id": "TEmx-UlEQf-N",
        "colab_type": "code",
        "colab": {}
      },
      "source": [
        "!unzip usb.zip"
      ],
      "execution_count": null,
      "outputs": []
    },
    {
      "cell_type": "markdown",
      "metadata": {
        "id": "cXXJwrCMQm92",
        "colab_type": "text"
      },
      "source": [
        "## ↑ 여기까지"
      ]
    },
    {
      "cell_type": "markdown",
      "metadata": {
        "id": "rZVED-1SQuXX",
        "colab_type": "text"
      },
      "source": [
        "## 학습시 필요한 weight 가져오기"
      ]
    },
    {
      "cell_type": "code",
      "metadata": {
        "id": "oG3M7jOcQxye",
        "colab_type": "code",
        "colab": {
          "base_uri": "https://localhost:8080/",
          "height": 34
        },
        "outputId": "e7437c51-b203-4423-db74-e9d766d02932"
      },
      "source": [
        "cd /content/drive/My\\ Drive/YOLO"
      ],
      "execution_count": 92,
      "outputs": [
        {
          "output_type": "stream",
          "text": [
            "/content/drive/My Drive/YOLO\n"
          ],
          "name": "stdout"
        }
      ]
    },
    {
      "cell_type": "code",
      "metadata": {
        "id": "YacHyA2dQz5G",
        "colab_type": "code",
        "colab": {}
      },
      "source": [
        "ls"
      ],
      "execution_count": null,
      "outputs": []
    },
    {
      "cell_type": "code",
      "metadata": {
        "id": "TlocA0ASRJlm",
        "colab_type": "code",
        "colab": {}
      },
      "source": [
        "cp yolov4.conv.137 /content/darknet"
      ],
      "execution_count": 94,
      "outputs": []
    },
    {
      "cell_type": "markdown",
      "metadata": {
        "id": "TdzpOJVEROzx",
        "colab_type": "text"
      },
      "source": [
        "## ↑ 여기까지 "
      ]
    },
    {
      "cell_type": "markdown",
      "metadata": {
        "id": "axxzvCkpRfPq",
        "colab_type": "text"
      },
      "source": [
        "## 학습된 좋은 model 가져오는 코드"
      ]
    },
    {
      "cell_type": "code",
      "metadata": {
        "id": "lO85ZZuvfXfm",
        "colab_type": "code",
        "colab": {
          "base_uri": "https://localhost:8080/",
          "height": 34
        },
        "outputId": "01a269c0-6cdb-4966-e128-a723154cf9a4"
      },
      "source": [
        "cd /content/drive/My\\ Drive/YOLO/boseong0915"
      ],
      "execution_count": 91,
      "outputs": [
        {
          "output_type": "stream",
          "text": [
            "/content/drive/My Drive/YOLO/boseong0915\n"
          ],
          "name": "stdout"
        }
      ]
    },
    {
      "cell_type": "code",
      "metadata": {
        "id": "3gfBtMCkE8mR",
        "colab_type": "code",
        "colab": {}
      },
      "source": [
        "cp yolov4train_best.weights /content/darknet/build/darknet/x64/backup/"
      ],
      "execution_count": 53,
      "outputs": []
    },
    {
      "cell_type": "markdown",
      "metadata": {
        "id": "zWcFTdXpRiBs",
        "colab_type": "text"
      },
      "source": [
        "## ↑ 여기까지"
      ]
    },
    {
      "cell_type": "code",
      "metadata": {
        "id": "dEasJ9NEf4pX",
        "colab_type": "code",
        "colab": {
          "base_uri": "https://localhost:8080/",
          "height": 34
        },
        "outputId": "ddefad74-a5dc-4080-b667-6ce7e4e6de53"
      },
      "source": [
        "cd /content/darknet"
      ],
      "execution_count": 95,
      "outputs": [
        {
          "output_type": "stream",
          "text": [
            "/content/darknet\n"
          ],
          "name": "stdout"
        }
      ]
    },
    {
      "cell_type": "code",
      "metadata": {
        "id": "L6g_azXRZblL",
        "colab_type": "code",
        "colab": {}
      },
      "source": [
        "!./darknet detector train build/darknet/x64/data/obj.data build/darknet/x64/cfg/yolov4train.cfg yolov4.conv.137 -gpu 1 -dont_show -map flag "
      ],
      "execution_count": null,
      "outputs": []
    },
    {
      "cell_type": "code",
      "metadata": {
        "id": "KSOq2EuGBbQv",
        "colab_type": "code",
        "colab": {}
      },
      "source": [
        "!./darknet detector test build/darknet/x64/data/obj.data build/darknet/x64/cfg/yolov4train.cfg build/darknet/x64/backup/yolov4train_last.weights /content/abcd.jpg\n",
        "#!./darknet detector test cfg/obj.data cfg/yolov3.cfg backup/yolov3_900.weights data/img/234.jpg\n",
        "from IPython.display import Image\n",
        "Image('predictions.jpg')\n"
      ],
      "execution_count": null,
      "outputs": []
    },
    {
      "cell_type": "code",
      "metadata": {
        "id": "ly1-vqrwR08k",
        "colab_type": "code",
        "colab": {}
      },
      "source": [
        "https://github.com/qqwweee/keras-yolo3 \n",
        "!python convert.py --weights data/yolov4train_best.weights --output data/yolov4train.h5"
      ],
      "execution_count": null,
      "outputs": []
    }
  ]
}